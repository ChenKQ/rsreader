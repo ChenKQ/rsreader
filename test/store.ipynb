{
 "cells": [
  {
   "cell_type": "code",
   "execution_count": null,
   "metadata": {},
   "outputs": [],
   "source": [
    "import numpy as np\n",
    "import sys\n",
    "sys.path.insert(0,'..')\n",
    "from rsreader.store.ComParser import ComParser\n",
    "from rsreader.store.SampleStore import SampleStore\n",
    "from matplotlib import pyplot as plt\n",
    "%matplotlib inline"
   ]
  },
  {
   "cell_type": "code",
   "execution_count": null,
   "metadata": {},
   "outputs": [],
   "source": [
    "def viz(img):\n",
    "    img = np.swapaxes(img,0,2)\n",
    "    img = np.swapaxes(img,0,1)\n",
    "    return img"
   ]
  },
  {
   "cell_type": "markdown",
   "metadata": {},
   "source": [
    "## ComParser"
   ]
  },
  {
   "cell_type": "code",
   "execution_count": null,
   "metadata": {},
   "outputs": [],
   "source": [
    "store = SampleStore(lstfile='/home/chenkq/data/vaihingen/trainset_irrgdsm.lst',\n",
    "                    data_root='/home/chenkq/data/vaihingen', withgt=True, openfirstly=True,\n",
    "                    lvreadertype='gdal', parsertype=ComParser)"
   ]
  },
  {
   "cell_type": "code",
   "execution_count": null,
   "metadata": {},
   "outputs": [],
   "source": [
    "sample = store.getOneSample(2)\n",
    "topreaders = sample.top\n",
    "gtreaders = sample.gt\n",
    "nchannel = sample.nchannel\n",
    "print(topreaders, gtreaders)\n",
    "print(nchannel)"
   ]
  },
  {
   "cell_type": "code",
   "execution_count": null,
   "metadata": {},
   "outputs": [],
   "source": [
    "img1 = topreaders[0].readPatch(startx=0,starty=0,width=500,height=500,bandlst=[],dtype=np.uint8)\n",
    "img2 = topreaders[1].readPatch(startx=0,starty=0,width=500,height=500,bandlst=[],dtype=np.uint8)"
   ]
  },
  {
   "cell_type": "code",
   "execution_count": null,
   "metadata": {},
   "outputs": [],
   "source": [
    "plt.figure(figsize=(20,10))\n",
    "plt.subplot(121)\n",
    "plt.imshow(viz(img1))\n",
    "plt.subplot(122)\n",
    "plt.imshow(img2[0])"
   ]
  }
 ],
 "metadata": {
  "kernelspec": {
   "display_name": "Python 3",
   "language": "python",
   "name": "python3"
  },
  "language_info": {
   "codemirror_mode": {
    "name": "ipython",
    "version": 3
   },
   "file_extension": ".py",
   "mimetype": "text/x-python",
   "name": "python",
   "nbconvert_exporter": "python",
   "pygments_lexer": "ipython3",
   "version": "3.6.4"
  }
 },
 "nbformat": 4,
 "nbformat_minor": 1
}
