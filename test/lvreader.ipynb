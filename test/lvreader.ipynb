{
 "cells": [
  {
   "cell_type": "code",
   "execution_count": null,
   "metadata": {},
   "outputs": [],
   "source": [
    "import numpy as np\n",
    "from rsreader.lvreader.OpenCVReader import OpenCVReader\n",
    "from rsreader.lvreader.PILReader import PILReader\n",
    "from rsreader.lvreader.GdalReader import GdalReader\n",
    "from rsreader.lvreader.BaseReader import BaseReader\n",
    "from matplotlib import pyplot as plt\n",
    "%matplotlib inline"
   ]
  },
  {
   "cell_type": "code",
   "execution_count": null,
   "metadata": {},
   "outputs": [],
   "source": [
    "def imgCHW2HWC(img):\n",
    "     return np.transpose(img,(1,2,0))"
   ]
  },
  {
   "cell_type": "code",
   "execution_count": null,
   "metadata": {},
   "outputs": [],
   "source": [
    "imgfile = '/var/mount/chenkq.JPG'"
   ]
  },
  {
   "cell_type": "markdown",
   "metadata": {},
   "source": [
    "## PILReader"
   ]
  },
  {
   "cell_type": "code",
   "execution_count": null,
   "metadata": {},
   "outputs": [],
   "source": [
    "reader = PILReader(imgfile)\n",
    "print(reader.getNChannel(), reader.getSize())\n",
    "patch = reader.readPatch(-10,100,200,250)\n",
    "print(patch.shape,np.min(patch),np.max(patch),np.mean(patch))\n",
    "img = reader.readImg()\n",
    "print(img.shape,np.min(img),np.max(img),np.mean(img))\n",
    "plt.figure(figsize=(10,5))\n",
    "plt.subplot(121)\n",
    "plt.imshow(imgCHW2HWC(patch))\n",
    "plt.subplot(122)\n",
    "plt.imshow(imgCHW2HWC(img))"
   ]
  },
  {
   "cell_type": "markdown",
   "metadata": {},
   "source": [
    "## OpenCVReader"
   ]
  },
  {
   "cell_type": "code",
   "execution_count": null,
   "metadata": {},
   "outputs": [],
   "source": [
    "reader = OpenCVReader(imgfile)\n",
    "print(reader.getNChannel(), reader.getSize())\n",
    "patch = reader.readPatch(-10,100,200,250)\n",
    "print(patch.shape,np.min(patch),np.max(patch),np.mean(patch))\n",
    "img = reader.readImg()\n",
    "print(img.shape,np.min(img),np.max(img),np.mean(img))\n",
    "plt.figure(figsize=(10,5))\n",
    "plt.subplot(121)\n",
    "plt.imshow(imgCHW2HWC(patch))\n",
    "plt.subplot(122)\n",
    "plt.imshow(imgCHW2HWC(img))"
   ]
  },
  {
   "cell_type": "markdown",
   "metadata": {},
   "source": [
    "## GdalReader"
   ]
  },
  {
   "cell_type": "code",
   "execution_count": null,
   "metadata": {},
   "outputs": [],
   "source": [
    "reader = GdalReader(imgfile)\n",
    "print(reader.getNChannel(), reader.getSize())\n",
    "patch = reader.readPatch(-10,100,200,250)\n",
    "print(patch.shape,np.min(patch),np.max(patch),np.mean(patch))\n",
    "img = reader.readImg()\n",
    "print(img.shape,np.min(img),np.max(img),np.mean(img))\n",
    "plt.figure(figsize=(10,5))\n",
    "plt.subplot(121)\n",
    "plt.imshow(imgCHW2HWC(patch))\n",
    "plt.subplot(122)\n",
    "plt.imshow(imgCHW2HWC(img))"
   ]
  },
  {
   "cell_type": "markdown",
   "metadata": {},
   "source": [
    "## BaseReader"
   ]
  },
  {
   "cell_type": "code",
   "execution_count": null,
   "metadata": {},
   "outputs": [],
   "source": [
    "reader = BaseReader(imgfile,readertype='pil')\n",
    "# reader = BaseReader(imgfile,readertype='opencv')\n",
    "# reader = BaseReader(imgfile,readertype='gdal')\n",
    "# reader = BaseReader(imgfile,readertype=PILReader)\n",
    "# reader = BaseReader(imgfile,readertype=OpenCVReader)\n",
    "# reader = BaseReader(imgfile,readertype=GdalReader)\n",
    "print(reader.getNChannel(), reader.getSize())\n",
    "patch = reader.readPatch(-10,100,200,250)\n",
    "print(patch.shape,np.min(patch),np.max(patch),np.mean(patch))\n",
    "img = reader.readImg()\n",
    "print(img.shape,np.min(img),np.max(img),np.mean(img))\n",
    "plt.figure(figsize=(10,5))\n",
    "plt.subplot(121)\n",
    "plt.imshow(imgCHW2HWC(patch))\n",
    "plt.subplot(122)\n",
    "plt.imshow(imgCHW2HWC(img))"
   ]
  }
 ],
 "metadata": {
  "kernelspec": {
   "display_name": "Python 3",
   "language": "python",
   "name": "python3"
  },
  "language_info": {
   "codemirror_mode": {
    "name": "ipython",
    "version": 3
   },
   "file_extension": ".py",
   "mimetype": "text/x-python",
   "name": "python",
   "nbconvert_exporter": "python",
   "pygments_lexer": "ipython3",
   "version": "3.6.5"
  }
 },
 "nbformat": 4,
 "nbformat_minor": 1
}
