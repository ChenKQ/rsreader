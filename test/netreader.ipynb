{
 "cells": [
  {
   "cell_type": "code",
   "execution_count": null,
   "metadata": {},
   "outputs": [],
   "source": [
    "import os,sys\n",
    "sys.path.insert(0,'..')\n",
    "import numpy as np\n",
    "from rsreader.netreader.SegReader import SegReader\n",
    "from rsreader.netreader.mxreader.GluonDataset import GluonDataset\n",
    "from rsreader.netreader.SegReader import SegReader\n",
    "from rsreader.utility.Normalization import *\n",
    "from rsreader.utility.DataAugmentation import *\n",
    "from rsreader.utility.ImageTrans import ImageTrans\n",
    "from rsreader.utility.JointTrans import JointTrans\n",
    "from rsreader.utility.LabelViz import LabelViz\n",
    "import random\n",
    "from matplotlib import pyplot as plt\n",
    "%matplotlib inline"
   ]
  },
  {
   "cell_type": "code",
   "execution_count": null,
   "metadata": {},
   "outputs": [],
   "source": [
    "def viz(img):\n",
    "    img = np.swapaxes(img,0,2) #c,h,w -- > w,h,c\n",
    "    img = np.swapaxes(img,0,1)\n",
    "    return img"
   ]
  },
  {
   "cell_type": "code",
   "execution_count": null,
   "metadata": {},
   "outputs": [],
   "source": [
    "num_classes = 6\n",
    "patchsize = (2048, 2048)\n",
    "step = (512,512)\n",
    "dSize = (512,512)\n",
    "checkperoid = 1\n",
    "nepoch = 100\n",
    "niter = 0\n",
    "lr = 0.001\n",
    "weight_decay = 0.00005\n",
    "momentum = 0.9\n",
    "printperoid = 100\n",
    "samplerate = 8"
   ]
  },
  {
   "cell_type": "code",
   "execution_count": null,
   "metadata": {},
   "outputs": [],
   "source": [
    "mean = [86.31373922, 92.0910872, 85.50070918, 95.87856063]\n",
    "std = [36.3780667, 35.29996454, 36.60494421, 36.4936119]\n",
    "# norm = standard_transforms.Normalize(mean=mean,std=std)\n",
    "\n",
    "mirror = Mirror(patchsize=patchsize)\n",
    "rotate = Rotate(patchsize=patchsize)\n",
    "randomcrop = RandomCrop(scale_range=[0.25, 1.0], dSize=dSize,symmetry=True, eps = 1000)\n",
    "scale = ScaleAug(patchsize=patchsize, symmetry=True, scale_range=[0.25, 2.0], eps=1000)\n",
    "# joint_trans = JointTrans(funcs=[mirror, rotate, scale])\n",
    "joint_trans = JointTrans(funcs=[scale,mirror, rotate], docopy = False)\n",
    "joint_trans = JointTrans(funcs=[rotate],docopy=False)\n",
    "\n",
    "norm = Normalization(mean=mean,std = std)\n",
    "img_trans = ImageTrans(trans=[norm])\n",
    "img_trans = ImageTrans(trans=[])\n",
    "gt_trans = ImageTrans(trans=[])"
   ]
  },
  {
   "cell_type": "code",
   "execution_count": null,
   "metadata": {},
   "outputs": [],
   "source": [
    "netreader = SegReader(flist_name='/home/chenkq/data/potsdam/trainset3.lst',\n",
    "                      data_root='/home/chenkq/data/potsdam',\n",
    "                      batchsize=1, cropsize=patchsize, step=step,\n",
    "                      img_trans=img_trans, gt_trans=gt_trans, joint_trans=joint_trans,\n",
    "                      withgt=True, bandlist=None, sampleseed=-1,\n",
    "                      lvreadertype='gdal', parsertype='common', openfirstly=True)"
   ]
  },
  {
   "cell_type": "code",
   "execution_count": null,
   "metadata": {},
   "outputs": [],
   "source": [
    "train_set = GluonDataset(netreader, niter=-1, mode='shuffle')"
   ]
  },
  {
   "cell_type": "code",
   "execution_count": null,
   "metadata": {},
   "outputs": [],
   "source": [
    "length = len(train_set)\n",
    "idx = random.sample(range(0,length),1)[0]\n",
    "idx = 500\n",
    "image,label = train_set[idx]\n",
    "print(image.shape)\n",
    "img = image\n",
    "gt = label\n",
    "img_viz = viz(img[0:3]).astype('uint8')\n",
    "converter = LabelViz('../rsreader/utility/isprs.txt')\n",
    "gt_viz = converter.Viz(gt)\n",
    "print(img_viz.shape, gt_viz.shape)\n",
    "plt.figure(figsize=(20,10))\n",
    "plt.subplot(131)\n",
    "plt.imshow(img_viz)\n",
    "plt.subplot(132)\n",
    "plt.imshow(gt_viz)\n",
    "plt.subplot(133)\n",
    "composition = 0.6*img_viz + 0.4*gt_viz\n",
    "plt.imshow(composition.astype('uint8'))"
   ]
  },
  {
   "cell_type": "markdown",
   "metadata": {},
   "source": [
    "## Calculate Mean and deviation"
   ]
  },
  {
   "cell_type": "code",
   "execution_count": null,
   "metadata": {},
   "outputs": [],
   "source": [
    "joint_trans = JointTrans([])\n",
    "img_trans = ImageTrans([])\n",
    "gt_trans = ImageTrans(trans=[])\n",
    "reader = SegReader(flist_name='/home/chenkq/data/vaihingen/trainset_irrgndsm.lst',\n",
    "                      data_root='/home/chenkq/data/vaihingen/',\n",
    "                      batchsize=1, cropsize=-1, step=-1,\n",
    "                      img_trans=img_trans, gt_trans=gt_trans, joint_trans=joint_trans,\n",
    "                      withgt=True, bandlist=None, sampleseed=-1,\n",
    "                      lvreadertype='gdal', parsertype='common', openfirstly=True)"
   ]
  },
  {
   "cell_type": "code",
   "execution_count": null,
   "metadata": {},
   "outputs": [],
   "source": [
    "means = []\n",
    "insts = []\n",
    "for idx in range(0, len(reader.readerStore.lines)):\n",
    "    top,gt = reader[idx]\n",
    "    img = top\n",
    "#     print(img.shape)\n",
    "    m = np.mean(img,axis=(1,2))\n",
    "    means.append(m)\n",
    "    inst = img.size/img.shape[0]\n",
    "    insts.append(inst)\n",
    "    print('#:', inst, ', mean:', m)"
   ]
  },
  {
   "cell_type": "code",
   "execution_count": null,
   "metadata": {},
   "outputs": [],
   "source": [
    "means = np.asarray(means)\n",
    "mean = np.average(means,axis=0,weights=insts)\n",
    "print('mean=',mean)"
   ]
  },
  {
   "cell_type": "code",
   "execution_count": null,
   "metadata": {},
   "outputs": [],
   "source": [
    "stds = []\n",
    "for idx in range(0, len(reader.readerStore.lines)):\n",
    "    top,gt = reader[idx]\n",
    "    img = top\n",
    "    img = np.swapaxes(img,0,2)\n",
    "    img = np.swapaxes(img,0,1)\n",
    "    sq = (img-mean)*(img-mean)\n",
    "    stds.append(np.sum(sq,axis=(0,1)))\n",
    "    print('#: ', insts[idx], stds[idx])"
   ]
  },
  {
   "cell_type": "code",
   "execution_count": null,
   "metadata": {},
   "outputs": [],
   "source": [
    "stds = np.asarray(stds)\n",
    "std = np.sum(stds, axis=0)\n",
    "print(std)\n",
    "std /= np.sum(insts)\n",
    "print(np.sqrt(std))"
   ]
  }
 ],
 "metadata": {
  "kernelspec": {
   "display_name": "Python 3",
   "language": "python",
   "name": "python3"
  },
  "language_info": {
   "codemirror_mode": {
    "name": "ipython",
    "version": 3
   },
   "file_extension": ".py",
   "mimetype": "text/x-python",
   "name": "python",
   "nbconvert_exporter": "python",
   "pygments_lexer": "ipython3",
   "version": "3.6.4"
  }
 },
 "nbformat": 4,
 "nbformat_minor": 1
}
